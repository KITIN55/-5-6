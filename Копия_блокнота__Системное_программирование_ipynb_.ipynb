{
  "cells": [
    {
      "cell_type": "markdown",
      "metadata": {
        "id": "fuYOpDnB0PjL"
      },
      "source": [
        "# <font color=\"Teal\"> **ЛАБОРАТОРНАЯ РАБОТА «ОСНОВЫ СИСТЕМНОГО ПРОГРАММИРОВАНИЯ»**"
      ]
    },
    {
      "cell_type": "markdown",
      "metadata": {
        "id": "tuzr_wyx1yvO"
      },
      "source": [
        "**Цель задания**\n",
        "Целью данного задания является развитие навыков системного программирования на языке Python через выполнение серии упражнений, охватывающих работу с файловой системой, процессами, сетями, системной информацией, многопоточностью и асинхронным программированием. Студенты должны не только выполнить указанные задачи, но и глубоко разобраться в используемых библиотеках и конструкциях языка, а также подготовить отчет, описывающий логику работы каждого блока кода.\n",
        "\n",
        "**Задачи для выполнения**\n",
        "\n",
        "* Работа с файловой системой\n",
        "    - Создание директории по указанному пути.\n",
        "    - Перечисление файлов в директории и ее поддиректориях.\n",
        "\n",
        "* Работа с процессами\n",
        "    - Запуск внешних команд и программ (ping, ls/dir).\n",
        "    - Анализ результатов выполнения команд.\n",
        "\n",
        "* Работа с сетями\n",
        "    - Отправка HTTP-запросов и анализ ответов.\n",
        "    - Установка соединения с сервером через сокеты и обмен сообщениями.\n",
        "\n",
        "* Работа с системной информацией\n",
        "    - Отображение информации о системе.\n",
        "    - Работа с рабочим каталогом и переменными окружения.\n",
        "\n",
        "* Многопоточность и асинхронное программирование\n",
        "    - Реализация многопоточности для выполнения длительных задач.\n",
        "    - Асинхронное выполнение и ожидание результатов операций.\n",
        "\n",
        "**Требования к отчету**\n",
        "\n",
        "Отчет должен содержать:\n",
        "* Описание каждого упражнения и его цели.\n",
        "* Пошаговое объяснение реализации задачи, включая описание используемых функций и методов.\n",
        "* Анализ полученных результатов и выводы.\n",
        "* Любые трудности, с которыми студенты столкнулись при выполнении задания, и способы их решения.\n",
        "* Размышления о том, как полученные знания могут быть применены в практических проектах."
      ]
    },
    {
      "cell_type": "markdown",
      "metadata": {
        "id": "_4V_U0_A0Rxw"
      },
      "source": [
        "## <font color=\"Teal\"> Упражнение 1. Работа с файловой системой"
      ]
    },
    {
      "cell_type": "markdown",
      "metadata": {
        "id": "a4NwCWib0k7F"
      },
      "source": [
        "* Написать скрипт для создания новой директории. Пусть скрипт принимает имя директории от пользователя и создает ее в указанном месте. Если директория уже существует, скрипт должен сообщить об этом.\n",
        "\n",
        "* Написать функцию для перечисления всех файлов в данной директории и всех ее поддиректориях. Функция должна выводить абсолютные пути файлов."
      ]
    },
    {
      "cell_type": "markdown",
      "metadata": {
        "id": "HsXAnUbJ2OTh"
      },
      "source": [
        "**Шаги**"
      ]
    },
    {
      "cell_type": "markdown",
      "metadata": {
        "id": "C0zjlsgK2RfN"
      },
      "source": [
        "1. Импортировать модуль `os`. Этот модуль содержит функции для работы с операционной системой, включая файловую систему."
      ]
    },
    {
      "cell_type": "code",
      "execution_count": 6,
      "metadata": {
        "id": "z19VwnBZ2WuK"
      },
      "outputs": [],
      "source": [
        "import os"
      ]
    },
    {
      "cell_type": "markdown",
      "metadata": {
        "id": "Px7DBldA2aOq"
      },
      "source": [
        "2. Получить от пользователя путь для создания директории. Используйте функцию `input()` для запроса пути."
      ]
    },
    {
      "cell_type": "code",
      "execution_count": 8,
      "metadata": {
        "id": "STsi4CD22gtY",
        "colab": {
          "base_uri": "https://localhost:8080/"
        },
        "outputId": "87a013c3-ca52-4fb1-89cb-146a59164f60"
      },
      "outputs": [
        {
          "name": "stdout",
          "output_type": "stream",
          "text": [
            "Введите путь для создания директории: /content/sample_data\n"
          ]
        }
      ],
      "source": [
        "directory = input(\"Введите путь для создания директории: \")"
      ]
    },
    {
      "cell_type": "markdown",
      "metadata": {
        "id": "CitXdppk1yym"
      },
      "source": [
        "3. Проверить, существует ли уже такая директория. Используйте `os.path.exists()` для проверки существования директории."
      ]
    },
    {
      "cell_type": "code",
      "execution_count": 9,
      "metadata": {
        "id": "_k45JWbu1yyo",
        "colab": {
          "base_uri": "https://localhost:8080/"
        },
        "outputId": "b1be89fe-a264-485a-f5a6-f677adf2aa4f"
      },
      "outputs": [
        {
          "output_type": "stream",
          "name": "stdout",
          "text": [
            "Директория уже существует\n"
          ]
        }
      ],
      "source": [
        "if os.path.exists(directory):\n",
        "    print(\"Директория уже существует\")\n",
        "else:\n",
        "    os.makedirs(directory)\n",
        "    print(f\"Директория {directory} создана\")"
      ]
    },
    {
      "cell_type": "markdown",
      "metadata": {
        "id": "TLAdl_iE1yy8"
      },
      "source": [
        "4. Используйте функцию `os.walk()` для обхода директории и всех её поддиректорий. Эта функция генерирует имена файлов в дереве каталогов, обходя дерево сверху вниз или снизу вверх."
      ]
    },
    {
      "cell_type": "code",
      "execution_count": 10,
      "metadata": {
        "id": "jLrPGZGm1yy9"
      },
      "outputs": [],
      "source": [
        "def list_files(directory):\n",
        "    for root, dirs, files in os.walk(directory):\n",
        "        for file in files:\n",
        "            print(os.path.join(root, file))"
      ]
    },
    {
      "cell_type": "markdown",
      "metadata": {
        "id": "OH-SOhw71yy9"
      },
      "source": [
        "5. Вызовите функцию и передайте ей путь к директории."
      ]
    },
    {
      "cell_type": "code",
      "execution_count": 11,
      "metadata": {
        "id": "6piPS3Cc1yy-",
        "colab": {
          "base_uri": "https://localhost:8080/"
        },
        "outputId": "42962cce-1cbe-4ef3-cefb-2b5763b40eb9"
      },
      "outputs": [
        {
          "name": "stdout",
          "output_type": "stream",
          "text": [
            "Введите путь к директории для перечисления файлов: \n"
          ]
        }
      ],
      "source": [
        "directory = input(\"Введите путь к директории для перечисления файлов: \")\n",
        "list_files(directory)"
      ]
    },
    {
      "cell_type": "markdown",
      "metadata": {
        "id": "qt9FnPLD1N7l"
      },
      "source": [
        "## <font color=\"Teal\"> Упражнение 2. Работа с процессами"
      ]
    },
    {
      "cell_type": "markdown",
      "metadata": {
        "id": "Dlcp59261Oot"
      },
      "source": [
        "* Написать скрипт для запуска внешних команд или программ. Пусть скрипт запускает команду `ping` для проверки доступности какого-либо ресурса в сети, например, `google.com`. Результат выполнения команды должен быть выведен пользователю.\n",
        "\n",
        "* Исследовать возможности модуля `subprocess`. Написать скрипт, который выполняет команду `ls` (для Unix/Linux) или `dir` (для Windows) и обрабатывает результат: выводит количество файлов в директории."
      ]
    },
    {
      "cell_type": "markdown",
      "metadata": {
        "id": "2Ir2AowO1yza"
      },
      "source": [
        "1. Импортировать модуль `subprocess`. Этот модуль позволяет запускать новые приложения и команды, подключаться к их каналам ввода/вывода/ошибок и получать их коды возврата."
      ]
    },
    {
      "cell_type": "code",
      "execution_count": 12,
      "metadata": {
        "id": "34BXmy4x1yzb"
      },
      "outputs": [],
      "source": [
        "import subprocess"
      ]
    },
    {
      "cell_type": "markdown",
      "metadata": {
        "id": "jpR5XRzD1yzm"
      },
      "source": [
        "2. Запустить команду `ping`. Используйте `subprocess.run()` для запуска команды и вывода результата."
      ]
    },
    {
      "cell_type": "code",
      "execution_count": 13,
      "metadata": {
        "id": "EZqKgmCX1yzn"
      },
      "outputs": [],
      "source": [
        "# subprocess.run([\"ping\", \"-n\", \"4\", \"google.com\"])"
      ]
    },
    {
      "cell_type": "markdown",
      "metadata": {
        "id": "jIPCRD4M1yzn"
      },
      "source": [
        "3. Запустить команду `ls` или `dir`. Используйте `subprocess.check_output()` для выполнения команды и получения вывода."
      ]
    },
    {
      "cell_type": "code",
      "execution_count": 14,
      "metadata": {
        "id": "qqPksSAK1yzo",
        "colab": {
          "base_uri": "https://localhost:8080/"
        },
        "outputId": "e0ff7599-c67a-4f38-e2e2-5abeead7fcd5"
      },
      "outputs": [
        {
          "output_type": "stream",
          "name": "stdout",
          "text": [
            "sample_data\n",
            "\n",
            "Количество элементов: 1\n"
          ]
        }
      ],
      "source": [
        "try:\n",
        "    output = subprocess.check_output(\"dir\", shell=True, text=True, encoding='cp866')\n",
        "    print(output)\n",
        "    files = output.strip().split('\\n')\n",
        "    print(f\"Количество элементов: {len(files)}\")\n",
        "except subprocess.CalledProcessError as e:\n",
        "    print(f\"Ошибка выполнения команды: {e}\")"
      ]
    },
    {
      "cell_type": "markdown",
      "metadata": {
        "id": "ANolYfT81yzp"
      },
      "source": [
        "4. Подсчитайте количество файлов в выводе, разделив строку по символу перевода строки и посчитав элементы списка."
      ]
    },
    {
      "cell_type": "code",
      "execution_count": 15,
      "metadata": {
        "id": "_w3YZ_Nq1yzp",
        "colab": {
          "base_uri": "https://localhost:8080/"
        },
        "outputId": "bec3b07a-277f-4987-e1ec-0a10fdc0828a"
      },
      "outputs": [
        {
          "output_type": "stream",
          "name": "stdout",
          "text": [
            "Количество файлов: 1\n"
          ]
        }
      ],
      "source": [
        "files = output.strip().split('\\n')\n",
        "print(f\"Количество файлов: {len(files)}\")"
      ]
    },
    {
      "cell_type": "markdown",
      "metadata": {
        "id": "oExdBS_M1asB"
      },
      "source": [
        "## <font color=\"Teal\"> Упражнение 3. Работа с сетями"
      ]
    },
    {
      "cell_type": "markdown",
      "metadata": {
        "id": "d0ax6AM81d1N"
      },
      "source": [
        "* Написать скрипт для проверки доступности веб-сайта. Скрипт должен отправлять HTTP-запрос к выбранному веб-сайту и выводить статус-код ответа.\n",
        "\n",
        "* Изучить модуль `socket`. Написать скрипт, который подключается к серверу по заданному адресу и порту, отправляет простое текстовое сообщение и получает ответ."
      ]
    },
    {
      "cell_type": "markdown",
      "metadata": {
        "id": "yi4LuPog1yzz"
      },
      "source": [
        "1. Импортировать модуль `requests`. Этот модуль позволяет отправлять HTTP-запросы."
      ]
    },
    {
      "cell_type": "code",
      "execution_count": 16,
      "metadata": {
        "id": "hYHMb0xQ1yz0"
      },
      "outputs": [],
      "source": [
        "import requests"
      ]
    },
    {
      "cell_type": "markdown",
      "metadata": {
        "id": "277Pot3F1yz0"
      },
      "source": [
        "2. Отправить GET-запрос к веб-сайту. Используйте `requests.get()` и обработайте объект ответа для вывода статус-кода."
      ]
    },
    {
      "cell_type": "code",
      "execution_count": 17,
      "metadata": {
        "id": "_sPwvsiY1yz1",
        "colab": {
          "base_uri": "https://localhost:8080/"
        },
        "outputId": "24fcccdf-361f-458d-f767-83b2c92e2c20"
      },
      "outputs": [
        {
          "output_type": "stream",
          "name": "stdout",
          "text": [
            "Статус-код: 200\n"
          ]
        }
      ],
      "source": [
        "response = requests.get(\"http://www.google.com\")\n",
        "print(f\"Статус-код: {response.status_code}\")"
      ]
    },
    {
      "cell_type": "markdown",
      "metadata": {
        "id": "oJ0WSe5q1yz8"
      },
      "source": [
        "3. Расширенная проверка доступности веб-сайта с использованием `requests`. Импорт необходимых модулей."
      ]
    },
    {
      "cell_type": "code",
      "execution_count": 18,
      "metadata": {
        "id": "jK_VgN9I1y0c"
      },
      "outputs": [],
      "source": [
        "import requests\n",
        "import time"
      ]
    },
    {
      "cell_type": "markdown",
      "metadata": {
        "id": "twokLYT21y0d"
      },
      "source": [
        "4. Отправка GET-запроса, измерение времени выполнения и получения запроса."
      ]
    },
    {
      "cell_type": "code",
      "execution_count": 19,
      "metadata": {
        "id": "H4uTfzKz1y0t"
      },
      "outputs": [],
      "source": [
        "start_time = time.time()\n",
        "response = requests.get(\"http://www.google.com\")\n",
        "end_time = time.time()"
      ]
    },
    {
      "cell_type": "markdown",
      "metadata": {
        "id": "b3mz0pqo1y0u"
      },
      "source": [
        "5. Анализ и вывод результатов."
      ]
    },
    {
      "cell_type": "code",
      "execution_count": 20,
      "metadata": {
        "id": "AOeKArrE1y0u",
        "colab": {
          "base_uri": "https://localhost:8080/"
        },
        "outputId": "d6f1df6a-ab73-4674-e45b-4aa12b5a87f3"
      },
      "outputs": [
        {
          "output_type": "stream",
          "name": "stdout",
          "text": [
            "Статус-код: 200\n",
            "Тип содержимого: text/html; charset=ISO-8859-1\n",
            "Размер контента: 8800 байт\n",
            "Время ответа: 0.0777287483215332 секунд\n"
          ]
        }
      ],
      "source": [
        "print(f\"Статус-код: {response.status_code}\")\n",
        "print(f\"Тип содержимого: {response.headers.get('Content-Type')}\")\n",
        "print(f\"Размер контента: {response.headers.get('Content-Length')} байт\")\n",
        "print(f\"Время ответа: {end_time - start_time} секунд\")"
      ]
    },
    {
      "cell_type": "markdown",
      "metadata": {
        "id": "Orhxc5mV1y0v"
      },
      "source": [
        "6. Работа с сокетами для отправки HTTP-запроса. Импорт модуля `socket`."
      ]
    },
    {
      "cell_type": "code",
      "execution_count": 21,
      "metadata": {
        "id": "CFHC_Q2N1y0x"
      },
      "outputs": [],
      "source": [
        "import socket"
      ]
    },
    {
      "cell_type": "markdown",
      "metadata": {
        "id": "vpT2zaMV1y1i"
      },
      "source": [
        "7. Определение хоста и порта."
      ]
    },
    {
      "cell_type": "code",
      "execution_count": 22,
      "metadata": {
        "id": "e_3Fxlub1y1i"
      },
      "outputs": [],
      "source": [
        "host = 'google.com'\n",
        "port = 80"
      ]
    },
    {
      "cell_type": "markdown",
      "metadata": {
        "id": "XUTfb4rl1y1j"
      },
      "source": [
        "8. Формирование HTTP-запроса."
      ]
    },
    {
      "cell_type": "code",
      "execution_count": 23,
      "metadata": {
        "id": "wdNo7gze1y15"
      },
      "outputs": [],
      "source": [
        "request = f\"GET / HTTP/1.1\\r\\nHost: {host}\\r\\nConnection: close\\r\\n\\r\\n\""
      ]
    },
    {
      "cell_type": "markdown",
      "metadata": {
        "id": "IchZSCjS1y16"
      },
      "source": [
        "9. Создание сокета и подключение. Отправка запроса и получение ответа."
      ]
    },
    {
      "cell_type": "code",
      "execution_count": 24,
      "metadata": {
        "id": "SkxFkeRF1y16"
      },
      "outputs": [],
      "source": [
        "with socket.socket(socket.AF_INET, socket.SOCK_STREAM) as s:\n",
        "    s.connect((host, port))\n",
        "\n",
        "    s.sendall(request.encode())\n",
        "\n",
        "    response = \"\"\n",
        "    while True:\n",
        "        part = s.recv(4096).decode()\n",
        "        if not part:\n",
        "            break\n",
        "        response += part"
      ]
    },
    {
      "cell_type": "markdown",
      "metadata": {
        "id": "hpD0JYf91y17"
      },
      "source": [
        "10. Анализ и вывод ответа."
      ]
    },
    {
      "cell_type": "code",
      "execution_count": 25,
      "metadata": {
        "collapsed": true,
        "id": "2G0sHTRY1y17",
        "outputId": "2abfd2b9-1eda-4500-acc4-ab48a8a29187",
        "colab": {
          "base_uri": "https://localhost:8080/"
        }
      },
      "outputs": [
        {
          "output_type": "stream",
          "name": "stdout",
          "text": [
            "Статус-код: 301\n",
            "Заголовки ответа:\n",
            "Location: http://www.google.com/\n",
            "Content-Type: text/html; charset=UTF-8\n",
            "Content-Security-Policy-Report-Only: object-src 'none';base-uri 'self';script-src 'nonce-q_C7_CpGS4e9fWsdXudFMA' 'strict-dynamic' 'report-sample' 'unsafe-eval' 'unsafe-inline' https: http:;report-uri https://csp.withgoogle.com/csp/gws/other-hp\n",
            "Date: Fri, 03 May 2024 20:59:00 GMT\n",
            "Expires: Sun, 02 Jun 2024 20:59:00 GMT\n",
            "Cache-Control: public, max-age=2592000\n",
            "Server: gws\n",
            "Content-Length: 219\n",
            "X-XSS-Protection: 0\n",
            "X-Frame-Options: SAMEORIGIN\n",
            "Connection: close\n"
          ]
        }
      ],
      "source": [
        "headers, _, body = response.partition('\\r\\n\\r\\n')\n",
        "status_line = headers.splitlines()[0]\n",
        "status_code = status_line.split(' ')[1]\n",
        "\n",
        "print(f\"Статус-код: {status_code}\")\n",
        "print(\"Заголовки ответа:\")\n",
        "print('\\n'.join(headers.splitlines()[1:]))"
      ]
    },
    {
      "cell_type": "markdown",
      "metadata": {
        "id": "66fBAnTb1pL1"
      },
      "source": [
        "## <font color=\"Teal\"> Упражнение 4. Работа с системной информацией"
      ]
    },
    {
      "cell_type": "markdown",
      "metadata": {
        "id": "ChYMcIL_1ud6"
      },
      "source": [
        "* Написать скрипт для отображения информации о системе. Скрипт должен выводить информацию о текущей операционной системе, версии Python, а также объем свободной и занятой памяти на диске.\n",
        "\n",
        "* Исследование модуля `os`. Написать функции для получения и вывода текущего рабочего каталога, изменения рабочего каталога и вывода списка всех переменных окружения."
      ]
    },
    {
      "cell_type": "markdown",
      "metadata": {
        "id": "e7MwxBri1y1_"
      },
      "source": [
        "1. Импортировать модули `os`, `platform` и `psutil`. Эти модули помогут получить информацию о системе."
      ]
    },
    {
      "cell_type": "code",
      "execution_count": 26,
      "metadata": {
        "id": "ftuo6FuV1y2A"
      },
      "outputs": [],
      "source": [
        "import os, platform, psutil"
      ]
    },
    {
      "cell_type": "markdown",
      "metadata": {
        "id": "kYrTMKRR1y2B"
      },
      "source": [
        "2. Вывести информацию о системе. Используйте функции этих модулей для получения и вывода информации."
      ]
    },
    {
      "cell_type": "code",
      "execution_count": 27,
      "metadata": {
        "id": "mtwkVQUy1y2E",
        "colab": {
          "base_uri": "https://localhost:8080/"
        },
        "outputId": "2166a356-85aa-4b0c-bd9b-b349dbbe4e02"
      },
      "outputs": [
        {
          "output_type": "stream",
          "name": "stdout",
          "text": [
            "ОС: Linux 6.1.58+\n",
            "Версия Python: 3.10.12\n",
            "Свободно на диске: 81.64 GB\n"
          ]
        }
      ],
      "source": [
        "print(f\"ОС: {platform.system()} {platform.release()}\")\n",
        "print(f\"Версия Python: {platform.python_version()}\")\n",
        "print(f\"Свободно на диске: {psutil.disk_usage('/').free / (1024**3):.2f} GB\")"
      ]
    },
    {
      "cell_type": "markdown",
      "metadata": {
        "id": "vLzTTZJG1y2F"
      },
      "source": [
        "3. Получить и вывести текущий рабочий каталог."
      ]
    },
    {
      "cell_type": "code",
      "execution_count": 28,
      "metadata": {
        "id": "UapbhOWt1y2F",
        "colab": {
          "base_uri": "https://localhost:8080/"
        },
        "outputId": "cfe7218f-e907-4472-870e-858f24eb5fdd"
      },
      "outputs": [
        {
          "output_type": "stream",
          "name": "stdout",
          "text": [
            "Текущий рабочий каталог: /content\n"
          ]
        }
      ],
      "source": [
        "print(f\"Текущий рабочий каталог: {os.getcwd()}\")"
      ]
    },
    {
      "cell_type": "markdown",
      "metadata": {
        "id": "hUP_6cPf1y2G"
      },
      "source": [
        "4. Изменить рабочий каталог и вывести его снова."
      ]
    },
    {
      "cell_type": "code",
      "execution_count": 29,
      "metadata": {
        "id": "2RYq2REK1y2H",
        "colab": {
          "base_uri": "https://localhost:8080/"
        },
        "outputId": "7de1b808-0223-4a16-b1a2-31fdab958e87"
      },
      "outputs": [
        {
          "output_type": "stream",
          "name": "stdout",
          "text": [
            "Новый рабочий каталог: /content/sample_data\n"
          ]
        }
      ],
      "source": [
        "os.chdir(r'/content/sample_data')\n",
        "print(f\"Новый рабочий каталог: {os.getcwd()}\")"
      ]
    },
    {
      "cell_type": "markdown",
      "metadata": {
        "id": "YCrXzfCE1y2H"
      },
      "source": [
        "5. Вывести список всех переменных окружения."
      ]
    },
    {
      "cell_type": "code",
      "execution_count": 30,
      "metadata": {
        "id": "l_IvF2Nl1y2J",
        "colab": {
          "base_uri": "https://localhost:8080/"
        },
        "outputId": "ef63e4cb-f02c-4961-968a-a14be8b5a6df"
      },
      "outputs": [
        {
          "output_type": "stream",
          "name": "stdout",
          "text": [
            "Переменные окружения:\n",
            "SHELL: /bin/bash\n",
            "NV_LIBCUBLAS_VERSION: 12.2.5.6-1\n",
            "NVIDIA_VISIBLE_DEVICES: all\n",
            "COLAB_JUPYTER_TRANSPORT: ipc\n",
            "NV_NVML_DEV_VERSION: 12.2.140-1\n",
            "NV_CUDNN_PACKAGE_NAME: libcudnn8\n",
            "CGROUP_MEMORY_EVENTS: /sys/fs/cgroup/memory.events /var/colab/cgroup/jupyter-children/memory.events\n",
            "NV_LIBNCCL_DEV_PACKAGE: libnccl-dev=2.19.3-1+cuda12.2\n",
            "NV_LIBNCCL_DEV_PACKAGE_VERSION: 2.19.3-1\n",
            "VM_GCE_METADATA_HOST: 169.254.169.253\n",
            "HOSTNAME: 78dda847e752\n",
            "LANGUAGE: en_US\n",
            "TBE_RUNTIME_ADDR: 172.28.0.1:8011\n",
            "COLAB_TPU_1VM: \n",
            "GCE_METADATA_TIMEOUT: 3\n",
            "NVIDIA_REQUIRE_CUDA: cuda>=12.2 brand=tesla,driver>=470,driver<471 brand=unknown,driver>=470,driver<471 brand=nvidia,driver>=470,driver<471 brand=nvidiartx,driver>=470,driver<471 brand=geforce,driver>=470,driver<471 brand=geforcertx,driver>=470,driver<471 brand=quadro,driver>=470,driver<471 brand=quadrortx,driver>=470,driver<471 brand=titan,driver>=470,driver<471 brand=titanrtx,driver>=470,driver<471 brand=tesla,driver>=525,driver<526 brand=unknown,driver>=525,driver<526 brand=nvidia,driver>=525,driver<526 brand=nvidiartx,driver>=525,driver<526 brand=geforce,driver>=525,driver<526 brand=geforcertx,driver>=525,driver<526 brand=quadro,driver>=525,driver<526 brand=quadrortx,driver>=525,driver<526 brand=titan,driver>=525,driver<526 brand=titanrtx,driver>=525,driver<526\n",
            "NV_LIBCUBLAS_DEV_PACKAGE: libcublas-dev-12-2=12.2.5.6-1\n",
            "NV_NVTX_VERSION: 12.2.140-1\n",
            "COLAB_JUPYTER_IP: 172.28.0.12\n",
            "NV_CUDA_CUDART_DEV_VERSION: 12.2.140-1\n",
            "NV_LIBCUSPARSE_VERSION: 12.1.2.141-1\n",
            "COLAB_LANGUAGE_SERVER_PROXY_ROOT_URL: http://172.28.0.1:8013/\n",
            "NV_LIBNPP_VERSION: 12.2.1.4-1\n",
            "NCCL_VERSION: 2.19.3-1\n",
            "KMP_LISTEN_PORT: 6000\n",
            "TF_FORCE_GPU_ALLOW_GROWTH: true\n",
            "ENV: /root/.bashrc\n",
            "PWD: /\n",
            "TBE_EPHEM_CREDS_ADDR: 172.28.0.1:8009\n",
            "COLAB_LANGUAGE_SERVER_PROXY_REQUEST_TIMEOUT: 30s\n",
            "TBE_CREDS_ADDR: 172.28.0.1:8008\n",
            "NV_CUDNN_PACKAGE: libcudnn8=8.9.6.50-1+cuda12.2\n",
            "NVIDIA_DRIVER_CAPABILITIES: compute,utility\n",
            "COLAB_JUPYTER_TOKEN: \n",
            "LAST_FORCED_REBUILD: 20240424\n",
            "NV_NVPROF_DEV_PACKAGE: cuda-nvprof-12-2=12.2.142-1\n",
            "NV_LIBNPP_PACKAGE: libnpp-12-2=12.2.1.4-1\n",
            "NV_LIBNCCL_DEV_PACKAGE_NAME: libnccl-dev\n",
            "TCLLIBPATH: /usr/share/tcltk/tcllib1.20\n",
            "NV_LIBCUBLAS_DEV_VERSION: 12.2.5.6-1\n",
            "NVIDIA_PRODUCT_NAME: CUDA\n",
            "COLAB_KERNEL_MANAGER_PROXY_HOST: 172.28.0.12\n",
            "NV_LIBCUBLAS_DEV_PACKAGE_NAME: libcublas-dev-12-2\n",
            "NV_CUDA_CUDART_VERSION: 12.2.140-1\n",
            "COLAB_WARMUP_DEFAULTS: 1\n",
            "HOME: /root\n",
            "LANG: en_US.UTF-8\n",
            "COLUMNS: 100\n",
            "CUDA_VERSION: 12.2.2\n",
            "CLOUDSDK_CONFIG: /content/.config\n",
            "NV_LIBCUBLAS_PACKAGE: libcublas-12-2=12.2.5.6-1\n",
            "NV_CUDA_NSIGHT_COMPUTE_DEV_PACKAGE: cuda-nsight-compute-12-2=12.2.2-1\n",
            "COLAB_RELEASE_TAG: release-colab_20240502-060125_RC00\n",
            "KMP_TARGET_PORT: 9000\n",
            "KMP_EXTRA_ARGS: --logtostderr --listen_host=172.28.0.12 --target_host=172.28.0.12 --tunnel_background_save_url=https://colab.research.google.com/tun/m/cc48301118ce562b961b3c22d803539adc1e0c19/m-s-jtoyo4t60n5w --tunnel_background_save_delay=10s --tunnel_periodic_background_save_frequency=30m0s --enable_output_coalescing=true --output_coalescing_required=true\n",
            "NV_LIBNPP_DEV_PACKAGE: libnpp-dev-12-2=12.2.1.4-1\n",
            "COLAB_LANGUAGE_SERVER_PROXY_LSP_DIRS: /datalab/web/pyright/typeshed-fallback/stdlib,/usr/local/lib/python3.10/dist-packages\n",
            "NV_LIBCUBLAS_PACKAGE_NAME: libcublas-12-2\n",
            "COLAB_KERNEL_MANAGER_PROXY_PORT: 6000\n",
            "CLOUDSDK_PYTHON: python3\n",
            "NV_LIBNPP_DEV_VERSION: 12.2.1.4-1\n",
            "NO_GCE_CHECK: False\n",
            "PYTHONPATH: /env/python\n",
            "NV_LIBCUSPARSE_DEV_VERSION: 12.1.2.141-1\n",
            "LIBRARY_PATH: /usr/local/cuda/lib64/stubs\n",
            "NV_CUDNN_VERSION: 8.9.6.50\n",
            "SHLVL: 0\n",
            "NV_CUDA_LIB_VERSION: 12.2.2-1\n",
            "COLAB_LANGUAGE_SERVER_PROXY: /usr/colab/bin/language_service\n",
            "NVARCH: x86_64\n",
            "NV_CUDNN_PACKAGE_DEV: libcudnn8-dev=8.9.6.50-1+cuda12.2\n",
            "NV_CUDA_COMPAT_PACKAGE: cuda-compat-12-2\n",
            "NV_LIBNCCL_PACKAGE: libnccl2=2.19.3-1+cuda12.2\n",
            "LD_LIBRARY_PATH: /usr/local/nvidia/lib:/usr/local/nvidia/lib64\n",
            "COLAB_GPU: \n",
            "NV_CUDA_NSIGHT_COMPUTE_VERSION: 12.2.2-1\n",
            "GCS_READ_CACHE_BLOCK_SIZE_MB: 16\n",
            "NV_NVPROF_VERSION: 12.2.142-1\n",
            "LC_ALL: en_US.UTF-8\n",
            "COLAB_FILE_HANDLER_ADDR: localhost:3453\n",
            "PATH: /opt/bin:/usr/local/nvidia/bin:/usr/local/cuda/bin:/usr/local/sbin:/usr/local/bin:/usr/sbin:/usr/bin:/sbin:/bin:/tools/node/bin:/tools/google-cloud-sdk/bin\n",
            "NV_LIBNCCL_PACKAGE_NAME: libnccl2\n",
            "COLAB_DEBUG_ADAPTER_MUX_PATH: /usr/local/bin/dap_multiplexer\n",
            "NV_LIBNCCL_PACKAGE_VERSION: 2.19.3-1\n",
            "PYTHONWARNINGS: ignore:::pip._internal.cli.base_command\n",
            "DEBIAN_FRONTEND: noninteractive\n",
            "COLAB_BACKEND_VERSION: next\n",
            "OLDPWD: /\n",
            "JPY_PARENT_PID: 77\n",
            "TERM: xterm-color\n",
            "CLICOLOR: 1\n",
            "PAGER: cat\n",
            "GIT_PAGER: cat\n",
            "MPLBACKEND: module://ipykernel.pylab.backend_inline\n",
            "ENABLE_DIRECTORYPREFETCHER: 1\n",
            "USE_AUTH_EPHEM: 1\n",
            "PYDEVD_USE_FRAME_EVAL: NO\n"
          ]
        }
      ],
      "source": [
        "print(\"Переменные окружения:\")\n",
        "for key, value in os.environ.items():\n",
        "    print(f\"{key}: {value}\")"
      ]
    },
    {
      "cell_type": "markdown",
      "metadata": {
        "id": "ZVcMhqpP19DA"
      },
      "source": [
        "## <font color=\"Teal\"> Упражнение 5. Многопоточность и асинхронное программирование"
      ]
    },
    {
      "cell_type": "markdown",
      "metadata": {
        "id": "CbVXWe9g2ASC"
      },
      "source": [
        "* Пример многопоточного выполнения задач. Написать скрипт, который запускает несколько потоков для выполнения функции, которая симулирует длительную задачу (например, ожидание с использованием `time.sleep()`).\n",
        "\n",
        "* Асинхронное программирование с использованием `asyncio`. Написать асинхронный скрипт для выполнения и ожидания результатов нескольких асинхронных операций (например, асинхронных HTTP-запросов)."
      ]
    },
    {
      "cell_type": "markdown",
      "metadata": {
        "id": "gUi6Jy2u1y2L"
      },
      "source": [
        "1. Импортировать модуль `threading` и `time`."
      ]
    },
    {
      "cell_type": "code",
      "execution_count": 31,
      "metadata": {
        "id": "2gqfAS3Ozi1j"
      },
      "outputs": [],
      "source": [
        "import threading, time"
      ]
    },
    {
      "cell_type": "markdown",
      "metadata": {
        "id": "5PDWiI7C1y2L"
      },
      "source": [
        "2. Определить функцию, которая симулирует длительную задачу."
      ]
    },
    {
      "cell_type": "code",
      "execution_count": 32,
      "metadata": {
        "id": "9DqHipjK1y2M"
      },
      "outputs": [],
      "source": [
        "def task(name):\n",
        "    print(f\"Задача {name} началась\\n\")\n",
        "    time.sleep(2)\n",
        "    print(f\"\\nЗадача {name} завершена\")"
      ]
    },
    {
      "cell_type": "markdown",
      "metadata": {
        "id": "_NI3SmkW1y2N"
      },
      "source": [
        "3. Запустить несколько потоков для выполнения этой функции."
      ]
    },
    {
      "cell_type": "code",
      "execution_count": 33,
      "metadata": {
        "id": "WMB5m3E91y2N",
        "colab": {
          "base_uri": "https://localhost:8080/"
        },
        "outputId": "77dfb7e3-a4e4-4b30-ae47-3810cf699cdf"
      },
      "outputs": [
        {
          "output_type": "stream",
          "name": "stdout",
          "text": [
            "Задача Поток 1 началась\n",
            "\n",
            "Задача Поток 2 началась\n",
            "\n",
            "Задача Поток 3 началась\n",
            "\n",
            "Задача Поток 4 началась\n",
            "\n",
            "Задача Поток 5 началась\n",
            "\n"
          ]
        }
      ],
      "source": [
        "for i in range(5):\n",
        "    t = threading.Thread(target=task, args=(f\"Поток {i+1}\",))\n",
        "    t.start()"
      ]
    },
    {
      "cell_type": "markdown",
      "metadata": {
        "id": "kVQ05HZL1y2O"
      },
      "source": [
        "4. Импортировать модуль `asyncio`."
      ]
    },
    {
      "cell_type": "code",
      "execution_count": 34,
      "metadata": {
        "id": "irQVsoDQ1y2Y"
      },
      "outputs": [],
      "source": [
        "import asyncio"
      ]
    },
    {
      "cell_type": "markdown",
      "metadata": {
        "id": "UpdeEXqh1y2Z"
      },
      "source": [
        "5. Определить асинхронную функцию, которая выполняет асинхронную операцию."
      ]
    },
    {
      "cell_type": "code",
      "execution_count": 35,
      "metadata": {
        "id": "TUhFF1BG1y2b"
      },
      "outputs": [],
      "source": [
        "async def async_task(name):\n",
        "    print(f\"Асинхронная задача {name} началась\")\n",
        "    await asyncio.sleep(2)\n",
        "    print(f\"Асинхронная задача {name} завершена\")"
      ]
    },
    {
      "cell_type": "markdown",
      "metadata": {
        "id": "szb9rcni1y2e"
      },
      "source": [
        "6. Создать и запустить задачи"
      ]
    },
    {
      "cell_type": "code",
      "execution_count": 36,
      "metadata": {
        "id": "FHtxBT4m1y2e"
      },
      "outputs": [],
      "source": [
        "tasks = [asyncio.create_task(async_task(f\"Задача {i+1}\")) for i in range(5)]"
      ]
    },
    {
      "cell_type": "markdown",
      "metadata": {
        "id": "sxtqB3BW1y2f"
      },
      "source": [
        "7. Другой способ. Определить и запустить основную асинхронную функцию `main`."
      ]
    },
    {
      "cell_type": "code",
      "execution_count": 37,
      "metadata": {
        "id": "lk45YDWd1y2g",
        "colab": {
          "base_uri": "https://localhost:8080/"
        },
        "outputId": "68a46610-6ba6-44d0-fcf2-f60debf4431a"
      },
      "outputs": [
        {
          "output_type": "stream",
          "name": "stdout",
          "text": [
            "Асинхронная задача Задача 1 началась\n",
            "Асинхронная задача Задача 2 началась\n",
            "Асинхронная задача Задача 3 началась\n",
            "Асинхронная задача Задача 4 началась\n",
            "Асинхронная задача Задача 5 началась\n",
            "Асинхронная задача Задача 1 началась\n",
            "Асинхронная задача Задача 2 началась\n",
            "Асинхронная задача Задача 3 началась\n",
            "Асинхронная задача Задача 4 началась\n",
            "Асинхронная задача Задача 5 началась\n",
            "\n",
            "Задача Поток 1 завершена\n",
            "\n",
            "Задача Поток 2 завершена\n",
            "\n",
            "Задача Поток 3 завершена\n",
            "\n",
            "Задача Поток 4 завершена\n",
            "\n",
            "Задача Поток 5 завершена\n",
            "Асинхронная задача Задача 1 завершена\n",
            "Асинхронная задача Задача 2 завершена\n",
            "Асинхронная задача Задача 3 завершена\n",
            "Асинхронная задача Задача 4 завершена\n",
            "Асинхронная задача Задача 5 завершена\n",
            "Асинхронная задача Задача 1 завершена\n",
            "Асинхронная задача Задача 2 завершена\n",
            "Асинхронная задача Задача 3 завершена\n",
            "Асинхронная задача Задача 4 завершена\n",
            "Асинхронная задача Задача 5 завершена\n"
          ]
        }
      ],
      "source": [
        "async def main():\n",
        "    await asyncio.gather(*(async_task(f\"Задача {i+1}\") for i in range(5)))\n",
        "\n",
        "await main()"
      ]
    },
    {
      "cell_type": "markdown",
      "metadata": {
        "id": "3phA2BUG1y2h"
      },
      "source": [
        "# <font color=\"Teal\"> **ЛАБОРАТОРНАЯ РАБОТА «ФАЙЛОВЫЙ МЕНЕДЖЕР»**"
      ]
    },
    {
      "cell_type": "markdown",
      "metadata": {
        "id": "hAqrFh5F1y2i"
      },
      "source": [
        "## Цель работы\n",
        "Основной целью работы является развитие умений и навыков в создании комплексных программных проектов, а также в освоении программного взаимодействия с файловой системой на языке Python.\n",
        "\n",
        "## Задания для выполнения\n",
        "Студентам необходимо разработать базовую версию файлового менеджера. Этот программный проект должен позволять пользователю взаимодействовать с файлами и папками в заданной рабочей директории. Список требуемых функций включает:\n",
        "\n",
        "- Создание и удаление директорий.\n",
        "- Навигация по файловой системе внутри рабочей директории.\n",
        "- Создание, чтение, запись, удаление, копирование, перемещение и переименование файлов.\n",
        "- Пользовательский интерфейс должен быть текстовым и работать по принципу командной строки.\n",
        "\n",
        "## Указания к выполнению\n",
        "\n",
        "- **Настройка рабочей директории:** Укажите путь к рабочей папке в конфигурационном файле проекта. Этот файл должен быть отдельным от основного кода.\n",
        "- **Ограничение действий:** Файловый менеджер должен предотвращать выход пользователя за пределы рабочей директории, тем самым создавая изолированное пространство для работы.\n",
        "- **Структура проекта:** Код должен быть структурирован и разделен на модули или классы, каждый из которых отвечает за определенную функцию файлового менеджера.\n",
        "- **Кроссплатформенность:** Программа должна корректно работать как в Windows, так и в UNIX-подобных системах. Используйте стандартную библиотеку Python для обеспечения совместимости.\n",
        "- **Использование Git:** Разработка должна проходить с использованием системы контроля версий Git, а результаты должны быть опубликованы в репозитории на GitHub.\n",
        "- **Дизайн команд:** Перед началом разработки необходимо тщательно спланировать набор и структуру команд, которые будут доступны пользователю. Стремитесь к оригинальности и избегайте копирования интерфейса существующих оболочек.\n",
        "\n",
        "## Дополнительные задания\n",
        "\n",
        "- **Разработка псевдографического интерфейса:** Создайте улучшенный пользовательский интерфейс, используя элементы псевдографики, аналогичные тем, что используются в программных менеджерах файлов Far или Midnight Commander.\n",
        "- **Многопользовательский доступ:** Добавьте функционал для работы нескольких пользователей с файловым менеджером: регистрацию и автоматическое создание персональной директории для каждого.\n",
        "- **Расширение функционала:** Включите дополнительные возможности для работы с файлами и папками, такие как архивация, разархивация и квотирование дискового пространства.\n",
        "\n",
        "## Ожидаемый результат\n",
        "- Полностью функциональный файловый менеджер с текстовым интерфейсом.\n",
        "- Отчет о проделанной работе, включающий описание каждой функции и принципов организации кода.\n",
        "- Код, организованный в соответствии с лучшими практиками программирования и опубликованный на GitHub."
      ]
    },
    {
      "cell_type": "code",
      "source": [
        "import os\n",
        "import shutil\n",
        "\n",
        "class FileManager:\n",
        "    def __init__(self, path):\n",
        "        self.path = path\n",
        "\n",
        "    def create_dir(self, dir_name):\n",
        "        dir_path = os.path.join(self.path, dir_name)\n",
        "        try:\n",
        "            os.mkdir(dir_path)\n",
        "        except OSError:\n",
        "            print(f\"Создание директории {dir_path} не удалось\")\n",
        "        else:\n",
        "            print(f\"Успешно создана директория {dir_path}\")\n",
        "\n",
        "    def delete_dir(self, dir_name):\n",
        "        dir_path = os.path.join(self.path, dir_name)\n",
        "        try:\n",
        "            os.rmdir(dir_path)\n",
        "        except OSError:\n",
        "            print(f\"Удаление директории {dir_path} не удалось\")\n",
        "        else:\n",
        "            print(f\"Успешно удалена директория {dir_path}\")\n",
        "\n",
        "    def list_dir(self):\n",
        "        with os.scandir(self.path) as entries:\n",
        "            for entry in entries:\n",
        "                print(entry.name)\n",
        "\n",
        "    def create_file(self, file_name):\n",
        "        file_path = os.path.join(self.path, file_name)\n",
        "        with open(file_path, 'w') as file:\n",
        "            file.write('')\n",
        "\n",
        "    def read_file(self, file_name):\n",
        "        file_path = os.path.join(self.path, file_name)\n",
        "        with open(file_path, 'r') as file:\n",
        "            print(file.read())\n",
        "\n",
        "    def write_file(self, file_name, text):\n",
        "        file_path = os.path.join(self.path, file_name)\n",
        "        with open(file_path, 'w') as file:\n",
        "            file.write(text)\n",
        "\n",
        "    def delete_file(self, file_name):\n",
        "        file_path = os.path.join(self.path, file_name)\n",
        "        os.remove(file_path)\n",
        "\n",
        "    def copy_file(self, file_name, new_file_name):\n",
        "        file_path = os.path.join(self.path, file_name)\n",
        "        new_file_path = os.path.join(self.path, new_file_name)\n",
        "        shutil.copyfile(file_path, new_file_path)\n",
        "\n",
        "    def move_file(self, file_name, new_file_name):\n",
        "        file_path = os.path.join(self.path, file_name)\n",
        "        new_file_path = os.path.join(self.path, new_file_name)\n",
        "        shutil.move(file_path, new_file_path)\n",
        "\n",
        "    def rename_file(self, file_name, new_file_name):\n",
        "        file_path = os.path.join(self.path, file_name)\n",
        "        new_file_path = os.path.join(self.path, new_file_name)\n",
        "        os.rename(file_path, new_file_path)\n",
        "\n",
        "\n",
        "# Пример использования\n",
        "fm = FileManager('.')\n",
        "while True:\n",
        "    print('1. Создать директорию')\n",
        "    print('2. Удалить директорию')\n",
        "    print('3. Показать содержимое директории')\n",
        "    print('4. Создать файл')\n",
        "    print('5. Прочитать файл')\n",
        "    print('6. Записать в файл')\n",
        "    print('7. Удалить файл')\n",
        "    print('8. Копировать файл')\n",
        "    print('9. Переместить файл')\n",
        "    print('10. Переименовать файл')\n",
        "    print('0. Выход')\n",
        "    choice = input('Выберите действие: ')\n",
        "    if choice == '1':\n",
        "        dir_name = input('Введите имя директории: ')\n",
        "        fm.create_dir(dir_name)\n",
        "    elif choice == '2':\n",
        "        dir_name = input('Введите имя директории: ')\n",
        "        fm.delete_dir(dir_name)\n",
        "    elif choice == '3':\n",
        "        fm.list_dir()\n",
        "    elif choice == '4':\n",
        "        file_name = input('Введите имя файла: ')\n",
        "        fm.create_file(file_name)\n",
        "    elif choice == '5':\n",
        "        file_name = input('Введите имя файла: ')\n",
        "        fm.read_file(file_name)\n",
        "    elif choice == '6':\n",
        "        file_name = input('Введите имя файла: ')\n",
        "        text = input('Введите текст: ')\n",
        "        fm.write_file(file_name, text)\n",
        "    elif choice == '7':\n",
        "        file_name = input('Введите имя файла: ')\n",
        "        fm.delete_file(file_name)\n",
        "    elif choice == '8':\n",
        "        file_name = input('Введите имя файла: ')\n",
        "        new_file_name = input('Введите имя нового файла: ')\n",
        "        fm.copy_file(file_name, new_file_name)\n",
        "    elif choice == '9':\n",
        "        file_name = input('Введите имя файла: ')\n",
        "        new_file_name = input('Введите имя нового файла: ')\n",
        "        fm.move_file(file_name, new_file_name)\n",
        "    elif choice == '10':\n",
        "        file_name = input('Введите имя файла: ')\n",
        "        new_file_name = input('Введите новое имя файла: ')\n",
        "        fm.rename_file(file_name, new_file_name)\n",
        "    elif choice == '0':\n",
        "        break"
      ],
      "metadata": {
        "colab": {
          "base_uri": "https://localhost:8080/",
          "height": 1000
        },
        "id": "bW7zF20ZMkKJ",
        "outputId": "8d3aa584-f63f-476f-92a6-b5bdec10227a"
      },
      "execution_count": 38,
      "outputs": [
        {
          "output_type": "stream",
          "name": "stdout",
          "text": [
            "1. Создать директорию\n",
            "2. Удалить директорию\n",
            "3. Показать содержимое директории\n",
            "4. Создать файл\n",
            "5. Прочитать файл\n",
            "6. Записать в файл\n",
            "7. Удалить файл\n",
            "8. Копировать файл\n",
            "9. Переместить файл\n",
            "10. Переименовать файл\n",
            "0. Выход\n",
            "Выберите действие: 3\n",
            "anscombe.json\n",
            "README.md\n",
            "mnist_test.csv\n",
            "california_housing_test.csv\n",
            "california_housing_train.csv\n",
            "mnist_train_small.csv\n",
            "1. Создать директорию\n",
            "2. Удалить директорию\n",
            "3. Показать содержимое директории\n",
            "4. Создать файл\n",
            "5. Прочитать файл\n",
            "6. Записать в файл\n",
            "7. Удалить файл\n",
            "8. Копировать файл\n",
            "9. Переместить файл\n",
            "10. Переименовать файл\n",
            "0. Выход\n",
            "Выберите действие: /content/sample_data\n",
            "1. Создать директорию\n",
            "2. Удалить директорию\n",
            "3. Показать содержимое директории\n",
            "4. Создать файл\n",
            "5. Прочитать файл\n",
            "6. Записать в файл\n",
            "7. Удалить файл\n",
            "8. Копировать файл\n",
            "9. Переместить файл\n",
            "10. Переименовать файл\n",
            "0. Выход\n",
            "Выберите действие: 4\n",
            "Введите имя файла: фффф\n",
            "1. Создать директорию\n",
            "2. Удалить директорию\n",
            "3. Показать содержимое директории\n",
            "4. Создать файл\n",
            "5. Прочитать файл\n",
            "6. Записать в файл\n",
            "7. Удалить файл\n",
            "8. Копировать файл\n",
            "9. Переместить файл\n",
            "10. Переименовать файл\n",
            "0. Выход\n"
          ]
        },
        {
          "output_type": "error",
          "ename": "KeyboardInterrupt",
          "evalue": "Interrupted by user",
          "traceback": [
            "\u001b[0;31m---------------------------------------------------------------------------\u001b[0m",
            "\u001b[0;31mKeyboardInterrupt\u001b[0m                         Traceback (most recent call last)",
            "\u001b[0;32m<ipython-input-38-3189aefd4fcc>\u001b[0m in \u001b[0;36m<cell line: 68>\u001b[0;34m()\u001b[0m\n\u001b[1;32m     78\u001b[0m     \u001b[0mprint\u001b[0m\u001b[0;34m(\u001b[0m\u001b[0;34m'10. Переименовать файл'\u001b[0m\u001b[0;34m)\u001b[0m\u001b[0;34m\u001b[0m\u001b[0;34m\u001b[0m\u001b[0m\n\u001b[1;32m     79\u001b[0m     \u001b[0mprint\u001b[0m\u001b[0;34m(\u001b[0m\u001b[0;34m'0. Выход'\u001b[0m\u001b[0;34m)\u001b[0m\u001b[0;34m\u001b[0m\u001b[0;34m\u001b[0m\u001b[0m\n\u001b[0;32m---> 80\u001b[0;31m     \u001b[0mchoice\u001b[0m \u001b[0;34m=\u001b[0m \u001b[0minput\u001b[0m\u001b[0;34m(\u001b[0m\u001b[0;34m'Выберите действие: '\u001b[0m\u001b[0;34m)\u001b[0m\u001b[0;34m\u001b[0m\u001b[0;34m\u001b[0m\u001b[0m\n\u001b[0m\u001b[1;32m     81\u001b[0m     \u001b[0;32mif\u001b[0m \u001b[0mchoice\u001b[0m \u001b[0;34m==\u001b[0m \u001b[0;34m'1'\u001b[0m\u001b[0;34m:\u001b[0m\u001b[0;34m\u001b[0m\u001b[0;34m\u001b[0m\u001b[0m\n\u001b[1;32m     82\u001b[0m         \u001b[0mdir_name\u001b[0m \u001b[0;34m=\u001b[0m \u001b[0minput\u001b[0m\u001b[0;34m(\u001b[0m\u001b[0;34m'Введите имя директории: '\u001b[0m\u001b[0;34m)\u001b[0m\u001b[0;34m\u001b[0m\u001b[0;34m\u001b[0m\u001b[0m\n",
            "\u001b[0;32m/usr/local/lib/python3.10/dist-packages/ipykernel/kernelbase.py\u001b[0m in \u001b[0;36mraw_input\u001b[0;34m(self, prompt)\u001b[0m\n\u001b[1;32m    849\u001b[0m                 \u001b[0;34m\"raw_input was called, but this frontend does not support input requests.\"\u001b[0m\u001b[0;34m\u001b[0m\u001b[0;34m\u001b[0m\u001b[0m\n\u001b[1;32m    850\u001b[0m             )\n\u001b[0;32m--> 851\u001b[0;31m         return self._input_request(str(prompt),\n\u001b[0m\u001b[1;32m    852\u001b[0m             \u001b[0mself\u001b[0m\u001b[0;34m.\u001b[0m\u001b[0m_parent_ident\u001b[0m\u001b[0;34m,\u001b[0m\u001b[0;34m\u001b[0m\u001b[0;34m\u001b[0m\u001b[0m\n\u001b[1;32m    853\u001b[0m             \u001b[0mself\u001b[0m\u001b[0;34m.\u001b[0m\u001b[0m_parent_header\u001b[0m\u001b[0;34m,\u001b[0m\u001b[0;34m\u001b[0m\u001b[0;34m\u001b[0m\u001b[0m\n",
            "\u001b[0;32m/usr/local/lib/python3.10/dist-packages/ipykernel/kernelbase.py\u001b[0m in \u001b[0;36m_input_request\u001b[0;34m(self, prompt, ident, parent, password)\u001b[0m\n\u001b[1;32m    893\u001b[0m             \u001b[0;32mexcept\u001b[0m \u001b[0mKeyboardInterrupt\u001b[0m\u001b[0;34m:\u001b[0m\u001b[0;34m\u001b[0m\u001b[0;34m\u001b[0m\u001b[0m\n\u001b[1;32m    894\u001b[0m                 \u001b[0;31m# re-raise KeyboardInterrupt, to truncate traceback\u001b[0m\u001b[0;34m\u001b[0m\u001b[0;34m\u001b[0m\u001b[0m\n\u001b[0;32m--> 895\u001b[0;31m                 \u001b[0;32mraise\u001b[0m \u001b[0mKeyboardInterrupt\u001b[0m\u001b[0;34m(\u001b[0m\u001b[0;34m\"Interrupted by user\"\u001b[0m\u001b[0;34m)\u001b[0m \u001b[0;32mfrom\u001b[0m \u001b[0;32mNone\u001b[0m\u001b[0;34m\u001b[0m\u001b[0;34m\u001b[0m\u001b[0m\n\u001b[0m\u001b[1;32m    896\u001b[0m             \u001b[0;32mexcept\u001b[0m \u001b[0mException\u001b[0m \u001b[0;32mas\u001b[0m \u001b[0me\u001b[0m\u001b[0;34m:\u001b[0m\u001b[0;34m\u001b[0m\u001b[0;34m\u001b[0m\u001b[0m\n\u001b[1;32m    897\u001b[0m                 \u001b[0mself\u001b[0m\u001b[0;34m.\u001b[0m\u001b[0mlog\u001b[0m\u001b[0;34m.\u001b[0m\u001b[0mwarning\u001b[0m\u001b[0;34m(\u001b[0m\u001b[0;34m\"Invalid Message:\"\u001b[0m\u001b[0;34m,\u001b[0m \u001b[0mexc_info\u001b[0m\u001b[0;34m=\u001b[0m\u001b[0;32mTrue\u001b[0m\u001b[0;34m)\u001b[0m\u001b[0;34m\u001b[0m\u001b[0;34m\u001b[0m\u001b[0m\n",
            "\u001b[0;31mKeyboardInterrupt\u001b[0m: Interrupted by user"
          ]
        }
      ]
    },
    {
      "cell_type": "code",
      "source": [],
      "metadata": {
        "id": "rAKysKs2A5pN"
      },
      "execution_count": null,
      "outputs": []
    }
  ],
  "metadata": {
    "colab": {
      "provenance": [],
      "collapsed_sections": [
        "fuYOpDnB0PjL",
        "3phA2BUG1y2h"
      ]
    },
    "kernelspec": {
      "display_name": "Python 3",
      "language": "python",
      "name": "python3"
    },
    "language_info": {
      "codemirror_mode": {
        "name": "ipython",
        "version": 3
      },
      "file_extension": ".py",
      "mimetype": "text/x-python",
      "name": "python",
      "nbconvert_exporter": "python",
      "pygments_lexer": "ipython3",
      "version": "3.8.5"
    }
  },
  "nbformat": 4,
  "nbformat_minor": 0
}